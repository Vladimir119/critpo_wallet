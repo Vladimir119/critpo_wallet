{
 "cells": [
  {
   "cell_type": "code",
   "execution_count": 1,
   "metadata": {},
   "outputs": [],
   "source": [
    "import random as rnd\n",
    "import string \n",
    "from tqdm import tqdm\n",
    "import math\n",
    "import mmh3"
   ]
  },
  {
   "cell_type": "markdown",
   "metadata": {},
   "source": []
  },
  {
   "cell_type": "code",
   "execution_count": 2,
   "metadata": {},
   "outputs": [],
   "source": [
    "def gen_rnd_string(len: int)-> str:\n",
    "    \"\"\"\n",
    "    This function generate random string with lenght = len.\n",
    "    \"\"\"\n",
    "    return \"\".join(rnd.choice(string.ascii_letters + string.digits) for _ in range(len))"
   ]
  },
  {
   "cell_type": "code",
   "execution_count": 3,
   "metadata": {},
   "outputs": [],
   "source": [
    "def list_to_hash(bloom: list)->int:\n",
    "    \"\"\"\n",
    "    This function hash list with 0 and 1 to int.\n",
    "    \"\"\"\n",
    "    hash = 0\n",
    "    two_pow = 1\n",
    "    for i in bloom:\n",
    "        hash += two_pow * i\n",
    "        two_pow *= 2\n",
    "\n",
    "    return hash"
   ]
  },
  {
   "cell_type": "markdown",
   "metadata": {},
   "source": [
    "генерируем полбзователей и их бакеты с адрессами и токены на которые указывают аддреса"
   ]
  },
  {
   "cell_type": "code",
   "execution_count": 4,
   "metadata": {},
   "outputs": [
    {
     "name": "stderr",
     "output_type": "stream",
     "text": [
      "  0%|          | 0/1000 [00:00<?, ?it/s]"
     ]
    },
    {
     "name": "stderr",
     "output_type": "stream",
     "text": [
      "100%|██████████| 1000/1000 [00:04<00:00, 226.16it/s]\n"
     ]
    }
   ],
   "source": [
    "t = 1000 # кол-во пользователей\n",
    "r = 100 # кол-во аддресов в бакете\n",
    "\n",
    "address = [] # все адреса\n",
    "tokens = [] # все токены, пока просто строки длины 100\n",
    "address_token_map = dict() \n",
    "\n",
    "for i in tqdm(range(t)):\n",
    "    # пока каждый user имеет только один бакет с адресами\n",
    "    usesr_address = []\n",
    "    users_token = []\n",
    "\n",
    "    for j in range(r):\n",
    "        cur_addres = int(rnd.uniform(1, 1_000_000_000))\n",
    "        cur_token = gen_rnd_string(100)\n",
    "        usesr_address.append(cur_addres)\n",
    "        users_token.append(cur_token)\n",
    "        address_token_map[cur_addres] = cur_token\n",
    "\n",
    "    address.append(usesr_address)\n",
    "    tokens.append(users_token)\n"
   ]
  },
  {
   "cell_type": "code",
   "execution_count": 5,
   "metadata": {},
   "outputs": [
    {
     "name": "stderr",
     "output_type": "stream",
     "text": [
      "100%|██████████| 1000/1000 [01:45<00:00,  9.44it/s]\n"
     ]
    }
   ],
   "source": [
    "m = 5000 # размер маски\n",
    "n = 1000 # желаемый размер ответа\n",
    "k = 22 # кол-во хеш функций\n",
    "\n",
    "blooms = [] # массив масок всех адресов\n",
    "blooms_token_map = dict()\n",
    "address_bloom_map = dict()\n",
    "token_bloom_map = dict()\n",
    "\n",
    "for i in tqdm(range(t)):\n",
    "    for o, cur_addres in enumerate(address[i]):\n",
    "        cur_bloom = [0]*m\n",
    "        cur_token = tokens[i][o]\n",
    "        for j in range(k):\n",
    "            nonce = f'nonce_{j}'\n",
    "            index = mmh3.hash128(str(cur_addres) + nonce) % m\n",
    "            cur_bloom[index] = 1\n",
    "        blooms.append(cur_bloom)\n",
    "        blooms_token_map[list_to_hash(cur_bloom)] = cur_token\n",
    "        token_bloom_map[cur_token] = cur_bloom\n",
    "        address_bloom_map[cur_addres] = cur_bloom"
   ]
  },
  {
   "cell_type": "code",
   "execution_count": 6,
   "metadata": {},
   "outputs": [],
   "source": [
    "def find_l(N):\n",
    "    \"\"\"\n",
    "    This function find l parametr(count of added 1 in mask) from N - size of data base, m, k, and r to get n element by query.\n",
    "    \"\"\"\n",
    "    return math.log(1 - (n/N)**(1/k))/math.log(1-1/m) - r*k"
   ]
  },
  {
   "cell_type": "code",
   "execution_count": 7,
   "metadata": {},
   "outputs": [],
   "source": [
    "def gen_user_bloom(user_number, N):\n",
    "    \"\"\"\n",
    "    This function generate user mask of bucket of address.\n",
    "    \"\"\"\n",
    "    user_bloom = [0]*m\n",
    "\n",
    "    for cur_addres in address[user_number]:\n",
    "        cur_bloom = address_bloom_map[cur_addres]\n",
    "        for ind, val in enumerate(cur_bloom):\n",
    "            if val == 1:\n",
    "                user_bloom[ind] = 1\n",
    "    \n",
    "    l = find_l(N)\n",
    "    print('l = ' + str(int(l)))\n",
    "\n",
    "    for i in range(int(l)):\n",
    "        index = int(rnd.uniform(0, m))\n",
    "        user_bloom[index] = 1\n",
    "\n",
    "    print('user bloom is finished!')\n",
    "    return user_bloom\n",
    "    "
   ]
  },
  {
   "cell_type": "code",
   "execution_count": 8,
   "metadata": {},
   "outputs": [],
   "source": [
    "def find(user_number, N):\n",
    "    \"\"\"\n",
    "    This function find all address in data base, which in user mask. \n",
    "    \"\"\"\n",
    "    ans = []\n",
    "    user_bloom = gen_user_bloom(user_number, N)\n",
    "\n",
    "    for j in tqdm(range(N)):\n",
    "        bloom = blooms[j]\n",
    "        flag = True\n",
    "        for i, val in enumerate(bloom):\n",
    "            if val == 1 and user_bloom[i] == 0:\n",
    "                flag = False\n",
    "                break\n",
    "        \n",
    "        if flag:\n",
    "            ans.append(blooms_token_map[list_to_hash(bloom)])\n",
    "\n",
    "    print('server find is finished')\n",
    "    return ans"
   ]
  },
  {
   "cell_type": "code",
   "execution_count": 9,
   "metadata": {},
   "outputs": [],
   "source": [
    "def check_true(user_number, N):\n",
    "    \"\"\"\n",
    "    This function print size server answer and check that answer has all other tokens.\n",
    "    \"\"\"\n",
    "    server_ans = find(user_number, N)\n",
    "\n",
    "    print('count returned: ' + str(len(server_ans)))\n",
    "\n",
    "    for token in tqdm(tokens[user_number]):\n",
    "        if token in server_ans:\n",
    "            continue\n",
    "        else:\n",
    "            return False\n",
    "\n",
    "    \n",
    "    return True"
   ]
  },
  {
   "cell_type": "code",
   "execution_count": 10,
   "metadata": {},
   "outputs": [
    {
     "name": "stdout",
     "output_type": "stream",
     "text": [
      "l = 6871\n",
      "user bloom is finished!\n"
     ]
    },
    {
     "name": "stderr",
     "output_type": "stream",
     "text": [
      "100%|██████████| 50000/50000 [00:06<00:00, 8005.15it/s] \n"
     ]
    },
    {
     "name": "stdout",
     "output_type": "stream",
     "text": [
      "server find is finished\n",
      "count returned: 1149\n"
     ]
    },
    {
     "name": "stderr",
     "output_type": "stream",
     "text": [
      "100%|██████████| 100/100 [00:00<00:00, 483214.75it/s]\n"
     ]
    },
    {
     "name": "stdout",
     "output_type": "stream",
     "text": [
      "algo is: True\n",
      "l = 6871\n",
      "user bloom is finished!\n"
     ]
    },
    {
     "name": "stderr",
     "output_type": "stream",
     "text": [
      "100%|██████████| 50000/50000 [00:03<00:00, 13445.47it/s]\n"
     ]
    },
    {
     "name": "stdout",
     "output_type": "stream",
     "text": [
      "server find is finished\n",
      "count returned: 988\n"
     ]
    },
    {
     "name": "stderr",
     "output_type": "stream",
     "text": [
      "100%|██████████| 100/100 [00:00<00:00, 970903.70it/s]\n"
     ]
    },
    {
     "name": "stdout",
     "output_type": "stream",
     "text": [
      "algo is: True\n",
      "l = 6871\n",
      "user bloom is finished!\n"
     ]
    },
    {
     "name": "stderr",
     "output_type": "stream",
     "text": [
      "100%|██████████| 50000/50000 [00:08<00:00, 5661.88it/s] \n"
     ]
    },
    {
     "name": "stdout",
     "output_type": "stream",
     "text": [
      "server find is finished\n",
      "count returned: 1157\n"
     ]
    },
    {
     "name": "stderr",
     "output_type": "stream",
     "text": [
      "100%|██████████| 100/100 [00:00<00:00, 176825.63it/s]\n"
     ]
    },
    {
     "name": "stdout",
     "output_type": "stream",
     "text": [
      "algo is: True\n",
      "l = 6871\n",
      "user bloom is finished!\n"
     ]
    },
    {
     "name": "stderr",
     "output_type": "stream",
     "text": [
      "100%|██████████| 50000/50000 [00:03<00:00, 13446.65it/s]\n"
     ]
    },
    {
     "name": "stdout",
     "output_type": "stream",
     "text": [
      "server find is finished\n",
      "count returned: 1073\n"
     ]
    },
    {
     "name": "stderr",
     "output_type": "stream",
     "text": [
      "100%|██████████| 100/100 [00:00<00:00, 495195.28it/s]\n"
     ]
    },
    {
     "name": "stdout",
     "output_type": "stream",
     "text": [
      "algo is: True\n",
      "l = 6871\n",
      "user bloom is finished!\n"
     ]
    },
    {
     "name": "stderr",
     "output_type": "stream",
     "text": [
      "100%|██████████| 50000/50000 [00:03<00:00, 12655.39it/s]\n"
     ]
    },
    {
     "name": "stdout",
     "output_type": "stream",
     "text": [
      "server find is finished\n",
      "count returned: 1044\n"
     ]
    },
    {
     "name": "stderr",
     "output_type": "stream",
     "text": [
      "100%|██████████| 100/100 [00:00<00:00, 323135.90it/s]"
     ]
    },
    {
     "name": "stdout",
     "output_type": "stream",
     "text": [
      "algo is: True\n"
     ]
    },
    {
     "name": "stderr",
     "output_type": "stream",
     "text": [
      "\n"
     ]
    }
   ],
   "source": [
    "for i in [2, 10, 20, 50, 54]:\n",
    "    res = check_true(i, 50000)\n",
    "    print(\"algo is: \" + str(res))\n",
    "\n",
    "# Провели несколько тестов и оценили матож ответ оклко 1000 как раз!\n",
    "# статистика будет позже добалена."
   ]
  },
  {
   "cell_type": "code",
   "execution_count": null,
   "metadata": {},
   "outputs": [],
   "source": []
  }
 ],
 "metadata": {
  "kernelspec": {
   "display_name": "Python 3",
   "language": "python",
   "name": "python3"
  },
  "language_info": {
   "codemirror_mode": {
    "name": "ipython",
    "version": 3
   },
   "file_extension": ".py",
   "mimetype": "text/x-python",
   "name": "python",
   "nbconvert_exporter": "python",
   "pygments_lexer": "ipython3",
   "version": "3.10.12"
  }
 },
 "nbformat": 4,
 "nbformat_minor": 2
}
